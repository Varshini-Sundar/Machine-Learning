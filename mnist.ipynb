{
 "cells": [
  {
   "cell_type": "code",
   "execution_count": 2,
   "metadata": {},
   "outputs": [],
   "source": [
    "\n",
    "import numpy as np\n",
    "from tensorflow import keras\n",
    "from tensorflow.keras import layers\n"
   ]
  },
  {
   "cell_type": "code",
   "execution_count": 3,
   "metadata": {},
   "outputs": [],
   "source": [
    "\n",
    "# Model / data parameters\n",
    "num_classes = 10\n",
    "input_shape = (28, 28, 1)\n",
    "\n",
    "# the data, split between train and test sets\n",
    "(x_train, y_train), (x_test, y_test) = keras.datasets.mnist.load_data()\n",
    "\n"
   ]
  },
  {
   "cell_type": "code",
   "execution_count": 11,
   "metadata": {},
   "outputs": [
    {
     "data": {
      "image/png": "[encoded data removed]",
      "text/plain": [
       "<Figure size 720x720 with 9 Axes>"
      ]
     },
     "metadata": {
      "needs_background": "light"
     },
     "output_type": "display_data"
    }
   ],
   "source": [
    "import matplotlib.pyplot as plt\n",
    "\n",
    "plt.figure(figsize=(10, 10))\n",
    "for i in range(9):\n",
    "  ax = plt.subplot(3, 3, i + 1)\n",
    "  image = x_train[i]\n",
    "  plt.imshow(image, cmap='gray')\n",
    "  plt.axis(\"off\")"
   ]
  },
  {
   "cell_type": "code",
   "execution_count": 6,
   "metadata": {},
   "outputs": [
    {
     "name": "stdout",
     "output_type": "stream",
     "text": [
      "x_train shape: (60000, 28, 28, 1)\n",
      "60000 train samples\n",
      "10000 test samples\n"
     ]
    }
   ],
   "source": [
    "# Scale images to the [0, 1] range\n",
    "x_train = x_train.astype(\"float32\") / 255\n",
    "x_test = x_test.astype(\"float32\") / 255\n",
    "# Make sure images have shape (28, 28, 1)\n",
    "x_train = np.expand_dims(x_train, -1)\n",
    "x_test = np.expand_dims(x_test, -1)\n",
    "print(\"x_train shape:\", x_train.shape)\n",
    "print(x_train.shape[0], \"train samples\")\n",
    "print(x_test.shape[0], \"test samples\")\n",
    "\n",
    "\n",
    "# convert class vectors to binary class matrices\n",
    "y_train = keras.utils.to_categorical(y_train, num_classes)\n",
    "y_test = keras.utils.to_categorical(y_test, num_classes)\n"
   ]
  },
  {
   "cell_type": "code",
   "execution_count": 8,
   "metadata": {},
   "outputs": [
    {
     "name": "stdout",
     "output_type": "stream",
     "text": [
      "Model: \"sequential\"\n",
      "_________________________________________________________________\n",
      "Layer (type)                 Output Shape              Param #   \n",
      "=================================================================\n",
      "conv2d (Conv2D)              (None, 26, 26, 32)        320       \n",
      "_________________________________________________________________\n",
      "max_pooling2d (MaxPooling2D) (None, 13, 13, 32)        0         \n",
      "_________________________________________________________________\n",
      "conv2d_1 (Conv2D)            (None, 11, 11, 64)        18496     \n",
      "_________________________________________________________________\n",
      "max_pooling2d_1 (MaxPooling2 (None, 5, 5, 64)          0         \n",
      "_________________________________________________________________\n",
      "flatten (Flatten)            (None, 1600)              0         \n",
      "_________________________________________________________________\n",
      "dropout (Dropout)            (None, 1600)              0         \n",
      "_________________________________________________________________\n",
      "dense (Dense)                (None, 10)                16010     \n",
      "=================================================================\n",
      "Total params: 34,826\n",
      "Trainable params: 34,826\n",
      "Non-trainable params: 0\n",
      "_________________________________________________________________\n"
     ]
    }
   ],
   "source": [
    "\n",
    "model = keras.Sequential(\n",
    "    [\n",
    "        keras.Input(shape=input_shape),\n",
    "        layers.Conv2D(32, kernel_size=(3, 3), activation=\"relu\"),\n",
    "        layers.MaxPooling2D(pool_size=(2, 2)),\n",
    "        layers.Conv2D(64, kernel_size=(3, 3), activation=\"relu\"),\n",
    "        layers.MaxPooling2D(pool_size=(2, 2)),\n",
    "        layers.Flatten(),\n",
    "        layers.Dropout(0.5),\n",
    "        layers.Dense(num_classes, activation=\"softmax\"),\n",
    "    ]\n",
    ")\n",
    "\n",
    "model.summary()\n"
   ]
  },
  {
   "cell_type": "code",
   "execution_count": 9,
   "metadata": {},
   "outputs": [
    {
     "name": "stdout",
     "output_type": "stream",
     "text": [
      "Train on 54000 samples, validate on 6000 samples\n",
      "Epoch 1/15\n",
      "54000/54000 [==============================] - 7s 125us/sample - loss: 0.3764 - accuracy: 0.8853 - val_loss: 0.0820 - val_accuracy: 0.9792\n",
      "Epoch 2/15\n",
      "54000/54000 [==============================] - 4s 69us/sample - loss: 0.1136 - accuracy: 0.9658 - val_loss: 0.0592 - val_accuracy: 0.9830\n",
      "Epoch 3/15\n",
      "54000/54000 [==============================] - 4s 70us/sample - loss: 0.0856 - accuracy: 0.9737 - val_loss: 0.0476 - val_accuracy: 0.9872\n",
      "Epoch 4/15\n",
      "54000/54000 [==============================] - 4s 74us/sample - loss: 0.0724 - accuracy: 0.9779 - val_loss: 0.0410 - val_accuracy: 0.9892\n",
      "Epoch 5/15\n",
      "54000/54000 [==============================] - 4s 72us/sample - loss: 0.0637 - accuracy: 0.9802 - val_loss: 0.0401 - val_accuracy: 0.9890\n",
      "Epoch 6/15\n",
      "54000/54000 [==============================] - 4s 69us/sample - loss: 0.0564 - accuracy: 0.9831 - val_loss: 0.0396 - val_accuracy: 0.9893\n",
      "Epoch 7/15\n",
      "54000/54000 [==============================] - 4s 70us/sample - loss: 0.0530 - accuracy: 0.9837 - val_loss: 0.0362 - val_accuracy: 0.9895\n",
      "Epoch 8/15\n",
      "54000/54000 [==============================] - 4s 70us/sample - loss: 0.0493 - accuracy: 0.9848 - val_loss: 0.0340 - val_accuracy: 0.9913\n",
      "Epoch 9/15\n",
      "54000/54000 [==============================] - 4s 70us/sample - loss: 0.0465 - accuracy: 0.9854 - val_loss: 0.0294 - val_accuracy: 0.9922\n",
      "Epoch 10/15\n",
      "54000/54000 [==============================] - 4s 69us/sample - loss: 0.0427 - accuracy: 0.9862 - val_loss: 0.0309 - val_accuracy: 0.9910\n",
      "Epoch 11/15\n",
      "54000/54000 [==============================] - 4s 70us/sample - loss: 0.0417 - accuracy: 0.9869 - val_loss: 0.0305 - val_accuracy: 0.9913\n",
      "Epoch 12/15\n",
      "54000/54000 [==============================] - 4s 69us/sample - loss: 0.0404 - accuracy: 0.9873 - val_loss: 0.0307 - val_accuracy: 0.9923\n",
      "Epoch 13/15\n",
      "54000/54000 [==============================] - 4s 69us/sample - loss: 0.0372 - accuracy: 0.9877 - val_loss: 0.0284 - val_accuracy: 0.9923\n",
      "Epoch 14/15\n",
      "54000/54000 [==============================] - 4s 70us/sample - loss: 0.0362 - accuracy: 0.9884 - val_loss: 0.0266 - val_accuracy: 0.9923\n",
      "Epoch 15/15\n",
      "54000/54000 [==============================] - 4s 69us/sample - loss: 0.0345 - accuracy: 0.9886 - val_loss: 0.0262 - val_accuracy: 0.9925\n"
     ]
    },
    {
     "data": {
      "text/plain": [
       "<tensorflow.python.keras.callbacks.History at 0x209d39ebd88>"
      ]
     },
     "execution_count": 9,
     "metadata": {},
     "output_type": "execute_result"
    }
   ],
   "source": [
    "\n",
    "batch_size = 128\n",
    "epochs = 15\n",
    "\n",
    "model.compile(loss=\"categorical_crossentropy\", optimizer=\"adam\", metrics=[\"accuracy\"])\n",
    "\n",
    "model.fit(x_train, y_train, batch_size=batch_size, epochs=epochs, validation_split=0.1)\n"
   ]
  },
  {
   "cell_type": "code",
   "execution_count": 5,
   "metadata": {},
   "outputs": [
    {
     "name": "stdout",
     "output_type": "stream",
     "text": [
      "Test loss: 0.0261699911299831\n",
      "Test accuracy: 0.9909\n"
     ]
    }
   ],
   "source": [
    "\n",
    "score = model.evaluate(x_test, y_test, verbose=0)\n",
    "print(\"Test loss:\", score[0])\n",
    "print(\"Test accuracy:\", score[1])\n"
   ]
  },
  {
   "cell_type": "code",
   "execution_count": null,
   "metadata": {},
   "outputs": [],
   "source": []
  }
 ],
 "metadata": {
  "kernelspec": {
   "display_name": "Python 3",
   "language": "python",
   "name": "python3"
  },
  "language_info": {
   "codemirror_mode": {
    "name": "ipython",
    "version": 3
   },
   "file_extension": ".py",
   "mimetype": "text/x-python",
   "name": "python",
   "nbconvert_exporter": "python",
   "pygments_lexer": "ipython3",
   "version": "3.7.10"
  }
 },
 "nbformat": 4,
 "nbformat_minor": 4
}
