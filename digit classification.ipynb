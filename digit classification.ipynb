{
 "cells": [
  {
   "cell_type": "code",
   "execution_count": 1,
   "metadata": {},
   "outputs": [],
   "source": [
    "from sklearn.datasets import load_digits\n",
    "import matplotlib.pyplot as plt\n",
    "digits = load_digits()"
   ]
  },
  {
   "cell_type": "code",
   "execution_count": 2,
   "metadata": {},
   "outputs": [
    {
     "data": {
      "text/plain": [
       "['DESCR', 'data', 'feature_names', 'frame', 'images', 'target', 'target_names']"
      ]
     },
     "execution_count": 2,
     "metadata": {},
     "output_type": "execute_result"
    }
   ],
   "source": [
    "dir(digits)"
   ]
  },
  {
   "cell_type": "code",
   "execution_count": 3,
   "metadata": {},
   "outputs": [
    {
     "data": {
      "text/plain": [
       "array([ 0.,  0.,  5., 13.,  9.,  1.,  0.,  0.,  0.,  0., 13., 15., 10.,\n",
       "       15.,  5.,  0.,  0.,  3., 15.,  2.,  0., 11.,  8.,  0.,  0.,  4.,\n",
       "       12.,  0.,  0.,  8.,  8.,  0.,  0.,  5.,  8.,  0.,  0.,  9.,  8.,\n",
       "        0.,  0.,  4., 11.,  0.,  1., 12.,  7.,  0.,  0.,  2., 14.,  5.,\n",
       "       10., 12.,  0.,  0.,  0.,  0.,  6., 13., 10.,  0.,  0.,  0.])"
      ]
     },
     "execution_count": 3,
     "metadata": {},
     "output_type": "execute_result"
    }
   ],
   "source": [
    "digits.data[0]"
   ]
  },
  {
   "cell_type": "code",
   "execution_count": 4,
   "metadata": {},
   "outputs": [
    {
     "data": {
      "text/plain": [
       "'pixel_0_0'"
      ]
     },
     "execution_count": 4,
     "metadata": {},
     "output_type": "execute_result"
    }
   ],
   "source": [
    "digits.feature_names[0]"
   ]
  },
  {
   "cell_type": "code",
   "execution_count": 5,
   "metadata": {},
   "outputs": [
    {
     "data": {
      "text/plain": [
       "array([0, 1, 2, ..., 8, 9, 8])"
      ]
     },
     "execution_count": 5,
     "metadata": {},
     "output_type": "execute_result"
    }
   ],
   "source": [
    "digits.target"
   ]
  },
  {
   "cell_type": "code",
   "execution_count": 6,
   "metadata": {},
   "outputs": [
    {
     "data": {
      "text/plain": [
       "array([0, 1, 2, 3, 4, 5, 6, 7, 8, 9])"
      ]
     },
     "execution_count": 6,
     "metadata": {},
     "output_type": "execute_result"
    }
   ],
   "source": [
    "digits.target_names"
   ]
  },
  {
   "cell_type": "code",
   "execution_count": 7,
   "metadata": {},
   "outputs": [
    {
     "data": {
      "image/png": "[encoded data removed]",
      "text/plain": [
       "<Figure size 288x288 with 1 Axes>"
      ]
     },
     "metadata": {
      "needs_background": "light"
     },
     "output_type": "display_data"
    },
    {
     "data": {
      "image/png": "[encoded data removed]",
      "text/plain": [
       "<Figure size 288x288 with 1 Axes>"
      ]
     },
     "metadata": {
      "needs_background": "light"
     },
     "output_type": "display_data"
    },
    {
     "data": {
      "image/png": "[encoded data removed]",
      "text/plain": [
       "<Figure size 288x288 with 1 Axes>"
      ]
     },
     "metadata": {
      "needs_background": "light"
     },
     "output_type": "display_data"
    },
    {
     "data": {
      "image/png": "[encoded data removed]",
      "text/plain": [
       "<Figure size 288x288 with 1 Axes>"
      ]
     },
     "metadata": {
      "needs_background": "light"
     },
     "output_type": "display_data"
    },
    {
     "data": {
      "image/png": "[encoded data removed]",
      "text/plain": [
       "<Figure size 288x288 with 1 Axes>"
      ]
     },
     "metadata": {
      "needs_background": "light"
     },
     "output_type": "display_data"
    }
   ],
   "source": [
    "for i in range(5):\n",
    "    plt.matshow(digits.images[i])"
   ]
  },
  {
   "cell_type": "code",
   "execution_count": 8,
   "metadata": {},
   "outputs": [],
   "source": [
    "from sklearn.linear_model import LogisticRegression\n",
    "model = LogisticRegression()"
   ]
  },
  {
   "cell_type": "code",
   "execution_count": 9,
   "metadata": {},
   "outputs": [],
   "source": [
    "from sklearn.model_selection import train_test_split"
   ]
  },
  {
   "cell_type": "code",
   "execution_count": 10,
   "metadata": {},
   "outputs": [],
   "source": [
    "x_train,x_test,y_train,y_test = train_test_split(digits.data,digits.target,test_size=0.2)"
   ]
  },
  {
   "cell_type": "code",
   "execution_count": 11,
   "metadata": {},
   "outputs": [
    {
     "data": {
      "text/plain": [
       "array([[ 0.,  0.,  0., ..., 15.,  5.,  0.],\n",
       "       [ 0.,  0., 13., ...,  3.,  0.,  0.],\n",
       "       [ 0.,  0.,  1., ..., 12.,  6.,  0.],\n",
       "       ...,\n",
       "       [ 0.,  0.,  1., ...,  0.,  0.,  0.],\n",
       "       [ 0.,  0.,  4., ..., 10.,  1.,  0.],\n",
       "       [ 0.,  0.,  0., ...,  6.,  0.,  0.]])"
      ]
     },
     "execution_count": 11,
     "metadata": {},
     "output_type": "execute_result"
    }
   ],
   "source": [
    "x_train"
   ]
  },
  {
   "cell_type": "code",
   "execution_count": 12,
   "metadata": {},
   "outputs": [
    {
     "data": {
      "text/plain": [
       "array([6, 1, 6, ..., 1, 0, 9])"
      ]
     },
     "execution_count": 12,
     "metadata": {},
     "output_type": "execute_result"
    }
   ],
   "source": [
    "y_train"
   ]
  },
  {
   "cell_type": "code",
   "execution_count": 13,
   "metadata": {},
   "outputs": [
    {
     "data": {
      "text/plain": [
       "array([[ 0.,  0.,  0., ..., 15., 10.,  0.],\n",
       "       [ 0.,  0.,  2., ...,  0.,  0.,  0.],\n",
       "       [ 0.,  0.,  0., ..., 10.,  0.,  0.],\n",
       "       ...,\n",
       "       [ 0.,  0.,  7., ...,  5.,  0.,  0.],\n",
       "       [ 0.,  0.,  0., ...,  4.,  0.,  0.],\n",
       "       [ 0.,  0.,  6., ..., 12.,  0.,  0.]])"
      ]
     },
     "execution_count": 13,
     "metadata": {},
     "output_type": "execute_result"
    }
   ],
   "source": [
    "x_test"
   ]
  },
  {
   "cell_type": "code",
   "execution_count": 14,
   "metadata": {},
   "outputs": [
    {
     "data": {
      "text/plain": [
       "array([6, 7, 1, 9, 6, 5, 3, 2, 6, 0, 3, 9, 7, 4, 2, 7, 7, 1, 4, 3, 4, 5,\n",
       "       9, 3, 6, 1, 7, 0, 8, 7, 5, 7, 1, 8, 0, 2, 9, 6, 9, 5, 9, 1, 7, 4,\n",
       "       5, 3, 3, 8, 7, 7, 1, 6, 6, 8, 7, 0, 1, 3, 5, 0, 5, 4, 9, 7, 0, 0,\n",
       "       4, 2, 6, 4, 8, 7, 4, 5, 1, 3, 2, 7, 6, 0, 8, 1, 2, 5, 3, 8, 5, 5,\n",
       "       0, 3, 5, 4, 4, 0, 7, 8, 8, 5, 8, 8, 5, 2, 0, 0, 7, 0, 0, 1, 8, 1,\n",
       "       9, 1, 6, 1, 7, 1, 9, 5, 0, 0, 2, 4, 4, 6, 4, 7, 4, 8, 6, 8, 3, 3,\n",
       "       9, 1, 5, 5, 6, 7, 0, 4, 0, 6, 2, 3, 9, 2, 1, 9, 2, 2, 9, 5, 1, 0,\n",
       "       3, 7, 0, 5, 3, 5, 7, 5, 4, 7, 4, 2, 9, 6, 6, 0, 6, 1, 4, 8, 8, 9,\n",
       "       0, 4, 8, 0, 9, 7, 5, 9, 5, 8, 0, 3, 8, 8, 7, 3, 1, 7, 3, 1, 0, 0,\n",
       "       1, 2, 0, 3, 1, 1, 7, 1, 3, 0, 2, 7, 1, 0, 2, 1, 8, 6, 9, 4, 1, 4,\n",
       "       6, 0, 1, 4, 0, 4, 4, 9, 2, 6, 1, 2, 8, 3, 8, 4, 0, 2, 3, 9, 8, 5,\n",
       "       1, 3, 3, 6, 0, 7, 5, 4, 1, 6, 2, 5, 5, 2, 7, 3, 7, 7, 5, 8, 2, 1,\n",
       "       2, 8, 9, 7, 5, 5, 3, 0, 6, 5, 6, 1, 7, 7, 2, 2, 8, 1, 7, 8, 6, 9,\n",
       "       9, 5, 7, 3, 9, 3, 5, 5, 4, 9, 6, 7, 5, 9, 9, 8, 8, 8, 9, 6, 3, 5,\n",
       "       1, 7, 0, 5, 4, 5, 9, 9, 6, 4, 9, 1, 5, 1, 2, 1, 3, 2, 2, 1, 7, 7,\n",
       "       3, 8, 8, 7, 7, 3, 9, 6, 7, 6, 9, 8, 5, 4, 9, 7, 9, 7, 5, 8, 4, 2,\n",
       "       8, 3, 9, 8, 4, 3, 1, 3])"
      ]
     },
     "execution_count": 14,
     "metadata": {},
     "output_type": "execute_result"
    }
   ],
   "source": [
    "y_test"
   ]
  },
  {
   "cell_type": "code",
   "execution_count": 15,
   "metadata": {},
   "outputs": [
    {
     "name": "stderr",
     "output_type": "stream",
     "text": [
      "C:\\Users\\HP\\anaconda3\\envs\\tf-gpu\\lib\\site-packages\\sklearn\\linear_model\\_logistic.py:765: ConvergenceWarning: lbfgs failed to converge (status=1):\n",
      "STOP: TOTAL NO. of ITERATIONS REACHED LIMIT.\n",
      "\n",
      "Increase the number of iterations (max_iter) or scale the data as shown in:\n",
      "    https://scikit-learn.org/stable/modules/preprocessing.html\n",
      "Please also refer to the documentation for alternative solver options:\n",
      "    https://scikit-learn.org/stable/modules/linear_model.html#logistic-regression\n",
      "  extra_warning_msg=_LOGISTIC_SOLVER_CONVERGENCE_MSG)\n"
     ]
    },
    {
     "data": {
      "text/plain": [
       "LogisticRegression()"
      ]
     },
     "execution_count": 15,
     "metadata": {},
     "output_type": "execute_result"
    }
   ],
   "source": [
    "model.fit(x_train,y_train)"
   ]
  },
  {
   "cell_type": "code",
   "execution_count": 16,
   "metadata": {},
   "outputs": [
    {
     "data": {
      "text/plain": [
       "0.9638888888888889"
      ]
     },
     "execution_count": 16,
     "metadata": {},
     "output_type": "execute_result"
    }
   ],
   "source": [
    "model.score(x_test,y_test)"
   ]
  },
  {
   "cell_type": "code",
   "execution_count": 17,
   "metadata": {},
   "outputs": [
    {
     "data": {
      "text/plain": [
       "array([6, 7, 1, 9, 6, 5, 9, 2, 6, 0, 3, 9, 7, 4, 2, 7, 7, 1, 4, 3, 4, 5,\n",
       "       9, 3, 6, 1, 7, 0, 8, 7, 5, 7, 1, 8, 0, 2, 9, 6, 9, 5, 9, 1, 7, 4,\n",
       "       5, 3, 3, 8, 7, 7, 1, 6, 6, 8, 7, 0, 1, 3, 5, 0, 5, 4, 9, 7, 0, 0,\n",
       "       4, 2, 6, 4, 8, 7, 4, 5, 1, 3, 2, 7, 6, 0, 8, 1, 2, 5, 3, 1, 7, 5,\n",
       "       0, 3, 5, 4, 4, 0, 7, 8, 8, 5, 8, 8, 5, 2, 0, 0, 7, 0, 0, 1, 8, 1,\n",
       "       9, 1, 6, 1, 7, 1, 9, 5, 0, 0, 2, 4, 4, 6, 4, 7, 4, 8, 6, 8, 3, 3,\n",
       "       9, 1, 5, 5, 6, 7, 0, 1, 0, 6, 2, 3, 1, 2, 1, 9, 2, 2, 9, 5, 1, 0,\n",
       "       3, 7, 0, 3, 3, 5, 7, 5, 4, 7, 4, 2, 9, 6, 6, 0, 6, 1, 4, 8, 6, 8,\n",
       "       0, 4, 1, 0, 9, 7, 5, 9, 5, 8, 0, 3, 8, 8, 7, 3, 1, 7, 3, 1, 0, 0,\n",
       "       1, 2, 0, 3, 1, 1, 7, 1, 3, 0, 2, 7, 1, 0, 2, 1, 8, 6, 9, 4, 1, 4,\n",
       "       6, 0, 9, 4, 0, 4, 4, 9, 2, 6, 1, 2, 8, 3, 8, 4, 0, 2, 3, 9, 8, 5,\n",
       "       1, 3, 3, 6, 0, 7, 5, 4, 1, 6, 2, 5, 5, 2, 7, 3, 7, 7, 5, 8, 2, 1,\n",
       "       2, 8, 9, 7, 5, 1, 3, 0, 6, 5, 6, 1, 7, 7, 2, 2, 8, 1, 7, 8, 6, 9,\n",
       "       9, 5, 7, 3, 9, 3, 5, 5, 4, 9, 6, 7, 5, 9, 9, 8, 8, 8, 9, 6, 3, 5,\n",
       "       1, 7, 0, 4, 4, 5, 9, 9, 6, 4, 9, 1, 5, 1, 2, 1, 3, 2, 2, 1, 7, 7,\n",
       "       3, 8, 8, 7, 7, 3, 9, 6, 7, 6, 9, 8, 5, 4, 9, 7, 9, 7, 5, 8, 4, 2,\n",
       "       8, 3, 0, 8, 4, 3, 1, 3])"
      ]
     },
     "execution_count": 17,
     "metadata": {},
     "output_type": "execute_result"
    }
   ],
   "source": [
    "model.predict(x_test)"
   ]
  },
  {
   "cell_type": "code",
   "execution_count": 18,
   "metadata": {},
   "outputs": [
    {
     "data": {
      "text/plain": [
       "array([0, 1, 2, 3, 4])"
      ]
     },
     "execution_count": 18,
     "metadata": {},
     "output_type": "execute_result"
    }
   ],
   "source": [
    "model.predict(digits.data[0:5])"
   ]
  },
  {
   "cell_type": "code",
   "execution_count": 19,
   "metadata": {},
   "outputs": [],
   "source": [
    "from sklearn.metrics import confusion_matrix"
   ]
  },
  {
   "cell_type": "code",
   "execution_count": 20,
   "metadata": {},
   "outputs": [
    {
     "data": {
      "text/plain": [
       "array([[35,  0,  0,  0,  0,  0,  0,  0,  0,  0],\n",
       "       [ 0, 39,  0,  0,  0,  0,  0,  0,  0,  1],\n",
       "       [ 0,  0, 29,  0,  0,  0,  0,  0,  0,  0],\n",
       "       [ 0,  0,  0, 34,  0,  0,  0,  0,  0,  1],\n",
       "       [ 0,  1,  0,  0, 31,  0,  0,  0,  0,  0],\n",
       "       [ 0,  1,  0,  1,  1, 37,  0,  1,  0,  0],\n",
       "       [ 0,  0,  0,  0,  0,  0, 30,  0,  0,  0],\n",
       "       [ 0,  0,  0,  0,  0,  0,  0, 45,  0,  0],\n",
       "       [ 0,  2,  0,  0,  0,  0,  1,  0, 34,  0],\n",
       "       [ 1,  1,  0,  0,  0,  0,  0,  0,  1, 33]], dtype=int64)"
      ]
     },
     "execution_count": 20,
     "metadata": {},
     "output_type": "execute_result"
    }
   ],
   "source": [
    "y_pred = model.predict(x_test)\n",
    "cm = confusion_matrix(y_test,y_pred)\n",
    "cm"
   ]
  },
  {
   "cell_type": "code",
   "execution_count": 21,
   "metadata": {},
   "outputs": [
    {
     "data": {
      "text/plain": [
       "Text(69.0, 0.5, 'Truth')"
      ]
     },
     "execution_count": 21,
     "metadata": {},
     "output_type": "execute_result"
    },
    {
     "data": {
      "image/png": "[encoded data removed]",
      "text/plain": [
       "<Figure size 720x504 with 2 Axes>"
      ]
     },
     "metadata": {
      "needs_background": "light"
     },
     "output_type": "display_data"
    }
   ],
   "source": [
    "import seaborn as sn\n",
    "plt.figure(figsize = (10,7))\n",
    "sn.heatmap(cm, annot = True)\n",
    "plt.xlabel('Predicted')\n",
    "plt.ylabel('Truth')"
   ]
  },
  {
   "cell_type": "code",
   "execution_count": 22,
   "metadata": {},
   "outputs": [],
   "source": [
    "from sklearn.svm import SVC"
   ]
  },
  {
   "cell_type": "code",
   "execution_count": 23,
   "metadata": {},
   "outputs": [],
   "source": [
    "model_svc = SVC()"
   ]
  },
  {
   "cell_type": "code",
   "execution_count": 24,
   "metadata": {},
   "outputs": [
    {
     "data": {
      "text/plain": [
       "{'C': 1.0,\n",
       " 'break_ties': False,\n",
       " 'cache_size': 200,\n",
       " 'class_weight': None,\n",
       " 'coef0': 0.0,\n",
       " 'decision_function_shape': 'ovr',\n",
       " 'degree': 3,\n",
       " 'gamma': 'scale',\n",
       " 'kernel': 'rbf',\n",
       " 'max_iter': -1,\n",
       " 'probability': False,\n",
       " 'random_state': None,\n",
       " 'shrinking': True,\n",
       " 'tol': 0.001,\n",
       " 'verbose': False}"
      ]
     },
     "execution_count": 24,
     "metadata": {},
     "output_type": "execute_result"
    }
   ],
   "source": [
    "model_svc.fit(x_train,y_train)\n",
    "model_svc.get_params()"
   ]
  },
  {
   "cell_type": "code",
   "execution_count": 25,
   "metadata": {},
   "outputs": [
    {
     "data": {
      "text/plain": [
       "0.9916666666666667"
      ]
     },
     "execution_count": 25,
     "metadata": {},
     "output_type": "execute_result"
    }
   ],
   "source": [
    "model_svc.score(x_test, y_test)"
   ]
  },
  {
   "cell_type": "code",
   "execution_count": 26,
   "metadata": {
    "scrolled": true
   },
   "outputs": [
    {
     "data": {
      "text/plain": [
       "SVC(kernel='linear')"
      ]
     },
     "execution_count": 26,
     "metadata": {},
     "output_type": "execute_result"
    }
   ],
   "source": [
    "#changing kernel\n",
    "model_linear_kernel = SVC(kernel='linear')\n",
    "model_linear_kernel.fit(x_train, y_train)"
   ]
  },
  {
   "cell_type": "code",
   "execution_count": 27,
   "metadata": {},
   "outputs": [
    {
     "data": {
      "text/plain": [
       "0.9777777777777777"
      ]
     },
     "execution_count": 27,
     "metadata": {},
     "output_type": "execute_result"
    }
   ],
   "source": [
    "model_linear_kernel.score(x_test,y_test)"
   ]
  },
  {
   "cell_type": "code",
   "execution_count": 28,
   "metadata": {},
   "outputs": [
    {
     "data": {
      "text/plain": [
       "0.9916666666666667"
      ]
     },
     "execution_count": 28,
     "metadata": {},
     "output_type": "execute_result"
    }
   ],
   "source": [
    "#changing regularization\n",
    "model_C = SVC(C=5)\n",
    "model_C.fit(x_train, y_train)\n",
    "model_C.score(x_test, y_test)"
   ]
  },
  {
   "cell_type": "code",
   "execution_count": 29,
   "metadata": {},
   "outputs": [
    {
     "data": {
      "text/plain": [
       "0.5111111111111111"
      ]
     },
     "execution_count": 29,
     "metadata": {},
     "output_type": "execute_result"
    }
   ],
   "source": [
    "#changing gamma\n",
    "model_g = SVC(gamma='auto')\n",
    "model_g.fit(x_train, y_train)\n",
    "model_g.score(x_test, y_test)"
   ]
  },
  {
   "cell_type": "code",
   "execution_count": 31,
   "metadata": {},
   "outputs": [
    {
     "data": {
      "text/plain": [
       "0.08333333333333333"
      ]
     },
     "execution_count": 31,
     "metadata": {},
     "output_type": "execute_result"
    }
   ],
   "source": [
    "#changing gamma\n",
    "model_g = SVC(gamma= 10)\n",
    "model_g.fit(x_train, y_train)\n",
    "model_g.score(x_test, y_test)"
   ]
  },
  {
   "cell_type": "code",
   "execution_count": null,
   "metadata": {},
   "outputs": [],
   "source": []
  }
 ],
 "metadata": {
  "kernelspec": {
   "display_name": "Python 3",
   "language": "python",
   "name": "python3"
  },
  "language_info": {
   "codemirror_mode": {
    "name": "ipython",
    "version": 3
   },
   "file_extension": ".py",
   "mimetype": "text/x-python",
   "name": "python",
   "nbconvert_exporter": "python",
   "pygments_lexer": "ipython3",
   "version": "3.7.7"
  }
 },
 "nbformat": 4,
 "nbformat_minor": 4
}
